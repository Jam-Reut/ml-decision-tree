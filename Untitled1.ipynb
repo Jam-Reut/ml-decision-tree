{
 "cells": [
  {
   "cell_type": "code",
   "execution_count": null,
   "id": "71214ca2-713d-41a6-b08b-a09aa57a0958",
   "metadata": {},
   "outputs": [],
   "source": []
  }
 ],
 "metadata": {
  "kernelspec": {
   "display_name": "",
   "name": ""
  },
  "language_info": {
   "name": ""
  }
 },
 "nbformat": 4,
 "nbformat_minor": 5
}
